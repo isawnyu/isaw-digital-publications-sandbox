{
 "cells": [
  {
   "cell_type": "code",
   "execution_count": 1,
   "metadata": {
    "collapsed": false
   },
   "outputs": [
    {
     "name": "stderr",
     "output_type": "stream",
     "text": [
      "INFO:rdflib:RDFLib Version: 4.2.1\n"
     ]
    }
   ],
   "source": [
    "import os\n",
    "import urllib.request\n",
    "\n",
    "\n",
    "from bs4 import BeautifulSoup\n",
    "\n",
    "import rdflib\n",
    "\n",
    "import logging\n",
    "logger = logging.getLogger()\n",
    "logger.setLevel(logging.CRITICAL)\n",
    "\n",
    "\n",
    "# import warnings\n",
    "# warnings.filterwarnings('ignore')\n",
    "\n",
    "# from whoosh.index import create_in\n",
    "# from whoosh.fields import *"
   ]
  },
  {
   "cell_type": "code",
   "execution_count": 2,
   "metadata": {
    "collapsed": true
   },
   "outputs": [],
   "source": [
    "ns = {\"dcterms\" : \"http://purl.org/dc/terms/\",\n",
    "      \"foaf\"    : \"http://xmlns.com/foaf/0.1/\",\n",
    "      \"owl\"     : \"http://www.w3.org/2002/07/owl#\",\n",
    "      \"rdf\"     : \"http://www.w3.org/1999/02/22-rdf-syntax-ns#\",\n",
    "      \"rdfs\"    : \"http://www.w3.org/2000/01/rdf-schema#\" }"
   ]
  },
  {
   "cell_type": "code",
   "execution_count": 3,
   "metadata": {
    "collapsed": false
   },
   "outputs": [],
   "source": [
    "# load from 'development' version or dlib.nyu.edu/...\n",
    "# this is useful if development version hasn't been pushed to dlib.nyu.edu\n",
    "url_base = 'http://isawnyu.github.io/isaw-papers-awdl/' # development\n",
    "# url_base = 'http://dlib.nyu.edu/awdl/isaw/isaw-papers/' # fully published\n",
    "\n",
    "urls_to_load = [{'url':url_base + '1/',  'fn' : 'isaw-papers-1.xhtml'},\n",
    "                {'url':url_base + '2/',  'fn' : 'isaw-papers-2.xhtml'},\n",
    "                {'url':url_base + '3/',  'fn' : 'isaw-papers-3.xhtml'},\n",
    "                {'url':url_base + '4/',  'fn' : 'isaw-papers-4.xhtml'},\n",
    "                {'url':url_base + '5/',  'fn' : 'isaw-papers-5.xhtml'},\n",
    "                {'url':url_base + '6/',  'fn' : 'isaw-papers-6.xhtml'},\n",
    "                {'url':url_base + '7/',  'fn' : 'isaw-papers-7.xhtml'},\n",
    "                {'url':url_base + '8/',  'fn' : 'isaw-papers-8.xhtml'},\n",
    "                {'url':url_base + '9/',  'fn' : 'isaw-papers-9.xhtml'},\n",
    "                {'url':url_base + '10/', 'fn' : 'isaw-papers-10.xhtml'},\n",
    "                {'url':url_base + '11/', 'fn' : 'isaw-papers-11.xhtml'}]\n",
    "    "
   ]
  },
  {
   "cell_type": "code",
   "execution_count": 4,
   "metadata": {
    "collapsed": true
   },
   "outputs": [],
   "source": [
    "# put everything into a local directory so that connectivity issues\n",
    "# don't interfere with debugging next cell\n",
    "\n",
    "for url_fn in urls_to_load:\n",
    "    urllib.request.urlretrieve(url_fn['url'],'docs/' + url_fn['fn'])"
   ]
  },
  {
   "cell_type": "code",
   "execution_count": 5,
   "metadata": {
    "collapsed": false
   },
   "outputs": [
    {
     "data": {
      "text/plain": [
       "3947"
      ]
     },
     "execution_count": 5,
     "metadata": {},
     "output_type": "execute_result"
    }
   ],
   "source": [
    "# ISAW's digital publications use RDFa. Meaning they are RDF. That can be loaded into a graph...\n",
    "g=rdflib.Graph()\n",
    "\n",
    "for url_fn in urls_to_load:\n",
    "    g.load('docs/' + url_fn['fn'],format=\"rdfa\")\n",
    "\n",
    "len(g)"
   ]
  },
  {
   "cell_type": "code",
   "execution_count": 6,
   "metadata": {
    "collapsed": false
   },
   "outputs": [
    {
     "name": "stdout",
     "output_type": "stream",
     "text": [
      "Christian Miks\n",
      "Christián C. Carman\n",
      "Federico De Romanis\n",
      "Gavin Blasdel\n",
      "Jorge J. Bravo III\n",
      "Joseph L. Rife\n",
      "Marcelo Di Cocco\n",
      "Paola Davoli\n",
      "Sebastian Heath\n",
      "Adam C. McCollum\n",
      "Alexander Jones\n",
      "Andrew Meadows\n",
      "Catharine Lorber\n",
      "Gilles Bransbourg\n",
      "John M. Steele\n",
      "John Muccigrosso\n",
      "Mantha Zarmakoupi\n",
      "Sebastian Heath\n",
      "Thomas Elliott\n",
      "Tony Freeth\n"
     ]
    }
   ],
   "source": [
    "# ... and then searched with SPARQL\n",
    "result = g.query('''SELECT DISTINCT ?name WHERE {\n",
    "\n",
    "  { ?s dcterms:creator ?name }\n",
    "  UNION\n",
    "  { ?s dcterms:creator/foaf:name ?name }\n",
    "  FILTER isLiteral(?name)\n",
    "} ORDER BY ?name''', initNs = ns)\n",
    "\n",
    "for row in result:\n",
    "    print(row.name)\n",
    "\n",
    "# Trivial list of authors sorted by full name (not last name!)"
   ]
  }
 ],
 "metadata": {
  "kernelspec": {
   "display_name": "Python 3",
   "language": "python",
   "name": "python3"
  },
  "language_info": {
   "codemirror_mode": {
    "name": "ipython",
    "version": 3
   },
   "file_extension": ".py",
   "mimetype": "text/x-python",
   "name": "python",
   "nbconvert_exporter": "python",
   "pygments_lexer": "ipython3",
   "version": "3.5.2"
  }
 },
 "nbformat": 4,
 "nbformat_minor": 1
}
